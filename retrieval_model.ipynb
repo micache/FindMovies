{
 "cells": [
  {
   "cell_type": "code",
   "execution_count": 1,
   "metadata": {},
   "outputs": [
    {
     "name": "stderr",
     "output_type": "stream",
     "text": [
      "d:\\App\\anaconda\\envs\\toolkit\\Lib\\site-packages\\tqdm\\auto.py:21: TqdmWarning: IProgress not found. Please update jupyter and ipywidgets. See https://ipywidgets.readthedocs.io/en/stable/user_install.html\n",
      "  from .autonotebook import tqdm as notebook_tqdm\n"
     ]
    }
   ],
   "source": [
    "import numpy as np\n",
    "import tensorflow as tf\n",
    "import tensorflow_datasets as tfds\n",
    "import tensorflow_recommenders as tfrs"
   ]
  },
  {
   "cell_type": "code",
   "execution_count": 2,
   "metadata": {},
   "outputs": [],
   "source": [
    "#movies data\n",
    "movies = tfds.load(\"movielens/100k-movies\", split=\"train\")\n",
    "#ratings data\n",
    "ratings = tfds.load(\"movielens/100k-ratings\", split=\"train\")"
   ]
  },
  {
   "cell_type": "code",
   "execution_count": 3,
   "metadata": {},
   "outputs": [],
   "source": [
    "def sort_ratings(ds):\n",
    "    timestamps = []\n",
    "    features_list = []\n",
    "\n",
    "    for example in ds:\n",
    "        timestamps.append(example['timestamp'])\n",
    "        features_list.append(example)\n",
    "\n",
    "    # convert list to tensor\n",
    "    timestamps = tf.convert_to_tensor(timestamps)\n",
    "    features_list = tf.stack(features_list)\n",
    "    # sort index\n",
    "    sorted_indices = tf.argsort(timestamps)\n",
    "    # sort all data\n",
    "    sorted_features = tf.gather(ds, sorted_indices)\n",
    "    return tf.data.Dataset.from_tensor_slices(sorted_features)"
   ]
  },
  {
   "cell_type": "code",
   "execution_count": 4,
   "metadata": {},
   "outputs": [],
   "source": [
    "ratings = ratings.map(lambda x: {\n",
    "    \"movie_title\": x[\"movie_title\"],\n",
    "    \"user_id\": x[\"user_id\"],\n",
    "})\n",
    "movies = movies.map(lambda x: x[\"movie_title\"])"
   ]
  },
  {
   "cell_type": "code",
   "execution_count": 5,
   "metadata": {},
   "outputs": [],
   "source": [
    "tf.random.set_seed(42)\n",
    "shuffled = ratings.shuffle(100_000, seed=42, reshuffle_each_iteration=False)\n",
    "\n",
    "train = shuffled.take(80_000)\n",
    "test = shuffled.skip(80_000).take(20_000)"
   ]
  },
  {
   "cell_type": "code",
   "execution_count": 6,
   "metadata": {},
   "outputs": [],
   "source": [
    "movie_titles = movies.batch(2_000)\n",
    "user_ids = ratings.batch(1_000_000).map(lambda x: x[\"user_id\"])"
   ]
  },
  {
   "cell_type": "code",
   "execution_count": 7,
   "metadata": {},
   "outputs": [
    {
     "data": {
      "text/plain": [
       "array([b'1', b'10', b'100', b'101', b'102', b'103', b'104', b'105',\n",
       "       b'106', b'107'], dtype=object)"
      ]
     },
     "execution_count": 7,
     "metadata": {},
     "output_type": "execute_result"
    }
   ],
   "source": [
    "unique_movie_titles = np.unique(list(movie_titles))\n",
    "unique_user_ids = np.unique(list(user_ids))\n",
    "\n",
    "unique_user_ids[:10]"
   ]
  },
  {
   "cell_type": "code",
   "execution_count": 8,
   "metadata": {},
   "outputs": [],
   "source": [
    "embedding_dimension = 32\n",
    "\n",
    "user_model = tf.keras.Sequential([\n",
    "    tf.keras.layers.StringLookup(\n",
    "        vocabulary=unique_user_ids, mask_token=None),\n",
    "    tf.keras.layers.Embedding(len(unique_user_ids) + 1, embedding_dimension)\n",
    "])"
   ]
  },
  {
   "cell_type": "code",
   "execution_count": 9,
   "metadata": {},
   "outputs": [],
   "source": [
    "movie_model = tf.keras.Sequential([\n",
    "  tf.keras.layers.StringLookup(\n",
    "      vocabulary=unique_movie_titles, mask_token=None),\n",
    "  tf.keras.layers.Embedding(len(unique_movie_titles) + 1, embedding_dimension)\n",
    "])"
   ]
  },
  {
   "cell_type": "code",
   "execution_count": 10,
   "metadata": {},
   "outputs": [],
   "source": [
    "metrics = tfrs.metrics.FactorizedTopK(\n",
    "  candidates=movies.batch(128).map(movie_model)\n",
    ")"
   ]
  },
  {
   "cell_type": "code",
   "execution_count": 11,
   "metadata": {},
   "outputs": [],
   "source": [
    "task = tfrs.tasks.Retrieval(\n",
    "  metrics=metrics\n",
    ")"
   ]
  },
  {
   "cell_type": "code",
   "execution_count": 12,
   "metadata": {},
   "outputs": [],
   "source": [
    "from typing import Dict, Text\n",
    "\n",
    "class MovielensModel(tfrs.Model):\n",
    "\n",
    "  def __init__(self, user_model, movie_model):\n",
    "    super().__init__()\n",
    "    self.movie_model: tf.keras.Model = movie_model\n",
    "    self.user_model: tf.keras.Model = user_model\n",
    "    self.task: tf.keras.layers.Layer = task\n",
    "\n",
    "  def compute_loss(self, features: Dict[Text, tf.Tensor], training=False):\n",
    "    # pick out the user features and pass them into the user model.\n",
    "    user_embeddings = self.user_model(features[\"user_id\"])\n",
    "    # and pick out the movie features and pass them into the movie model,\n",
    "    # getting embeddings back.\n",
    "    positive_movie_embeddings = self.movie_model(features[\"movie_title\"])\n",
    "\n",
    "    # computes the loss and the metrics.\n",
    "    return self.task(user_embeddings, positive_movie_embeddings)"
   ]
  },
  {
   "cell_type": "code",
   "execution_count": 13,
   "metadata": {},
   "outputs": [],
   "source": [
    "model = MovielensModel(user_model, movie_model)\n",
    "model.compile(optimizer=tf.keras.optimizers.Adagrad(learning_rate=0.1))"
   ]
  },
  {
   "cell_type": "code",
   "execution_count": 14,
   "metadata": {},
   "outputs": [],
   "source": [
    "cached_train = train.shuffle(100_000).batch(8192).cache()\n",
    "cached_test = test.batch(4096).cache()"
   ]
  },
  {
   "cell_type": "code",
   "execution_count": 15,
   "metadata": {},
   "outputs": [
    {
     "name": "stdout",
     "output_type": "stream",
     "text": [
      "Epoch 1/5\n",
      "10/10 [==============================] - 6s 412ms/step - factorized_top_k/top_1_categorical_accuracy: 0.0012 - factorized_top_k/top_5_categorical_accuracy: 0.0106 - factorized_top_k/top_10_categorical_accuracy: 0.0225 - factorized_top_k/top_50_categorical_accuracy: 0.1061 - factorized_top_k/top_100_categorical_accuracy: 0.1852 - loss: 69816.4716 - regularization_loss: 0.0000e+00 - total_loss: 69816.4716\n",
      "Epoch 2/5\n",
      "10/10 [==============================] - 4s 383ms/step - factorized_top_k/top_1_categorical_accuracy: 0.0031 - factorized_top_k/top_5_categorical_accuracy: 0.0199 - factorized_top_k/top_10_categorical_accuracy: 0.0411 - factorized_top_k/top_50_categorical_accuracy: 0.1736 - factorized_top_k/top_100_categorical_accuracy: 0.2994 - loss: 67406.7017 - regularization_loss: 0.0000e+00 - total_loss: 67406.7017\n",
      "Epoch 3/5\n",
      "10/10 [==============================] - 4s 382ms/step - factorized_top_k/top_1_categorical_accuracy: 0.0037 - factorized_top_k/top_5_categorical_accuracy: 0.0236 - factorized_top_k/top_10_categorical_accuracy: 0.0455 - factorized_top_k/top_50_categorical_accuracy: 0.1888 - factorized_top_k/top_100_categorical_accuracy: 0.3176 - loss: 66266.4638 - regularization_loss: 0.0000e+00 - total_loss: 66266.4638\n",
      "Epoch 4/5\n",
      "10/10 [==============================] - 4s 380ms/step - factorized_top_k/top_1_categorical_accuracy: 0.0040 - factorized_top_k/top_5_categorical_accuracy: 0.0259 - factorized_top_k/top_10_categorical_accuracy: 0.0510 - factorized_top_k/top_50_categorical_accuracy: 0.2036 - factorized_top_k/top_100_categorical_accuracy: 0.3345 - loss: 65595.7805 - regularization_loss: 0.0000e+00 - total_loss: 65595.7805\n",
      "Epoch 5/5\n",
      "10/10 [==============================] - 4s 372ms/step - factorized_top_k/top_1_categorical_accuracy: 0.0043 - factorized_top_k/top_5_categorical_accuracy: 0.0275 - factorized_top_k/top_10_categorical_accuracy: 0.0553 - factorized_top_k/top_50_categorical_accuracy: 0.2157 - factorized_top_k/top_100_categorical_accuracy: 0.3499 - loss: 65101.9396 - regularization_loss: 0.0000e+00 - total_loss: 65101.9396\n"
     ]
    },
    {
     "data": {
      "text/plain": [
       "<keras.src.callbacks.History at 0x25b2dbf4190>"
      ]
     },
     "execution_count": 15,
     "metadata": {},
     "output_type": "execute_result"
    }
   ],
   "source": [
    "model.fit(cached_train, epochs=5)"
   ]
  },
  {
   "cell_type": "code",
   "execution_count": 16,
   "metadata": {},
   "outputs": [
    {
     "name": "stdout",
     "output_type": "stream",
     "text": [
      "5/5 [==============================] - 1s 148ms/step - factorized_top_k/top_1_categorical_accuracy: 7.5000e-04 - factorized_top_k/top_5_categorical_accuracy: 0.0064 - factorized_top_k/top_10_categorical_accuracy: 0.0146 - factorized_top_k/top_50_categorical_accuracy: 0.1066 - factorized_top_k/top_100_categorical_accuracy: 0.2149 - loss: 31177.3467 - regularization_loss: 0.0000e+00 - total_loss: 31177.3467\n"
     ]
    },
    {
     "data": {
      "text/plain": [
       "{'factorized_top_k/top_1_categorical_accuracy': 0.000750000006519258,\n",
       " 'factorized_top_k/top_5_categorical_accuracy': 0.006399999838322401,\n",
       " 'factorized_top_k/top_10_categorical_accuracy': 0.014600000344216824,\n",
       " 'factorized_top_k/top_50_categorical_accuracy': 0.10655000060796738,\n",
       " 'factorized_top_k/top_100_categorical_accuracy': 0.21490000188350677,\n",
       " 'loss': 28311.638671875,\n",
       " 'regularization_loss': 0,\n",
       " 'total_loss': 28311.638671875}"
      ]
     },
     "execution_count": 16,
     "metadata": {},
     "output_type": "execute_result"
    }
   ],
   "source": [
    "model.evaluate(cached_test, return_dict=True)"
   ]
  },
  {
   "cell_type": "code",
   "execution_count": 17,
   "metadata": {},
   "outputs": [
    {
     "data": {
      "text/plain": [
       "[<tf.Variable 'embedding/embeddings:0' shape=(944, 32) dtype=float32, numpy=\n",
       " array([[ 0.0382635 , -0.03688531, -0.03190091, ..., -0.04987667,\n",
       "          0.04244686, -0.04079776],\n",
       "        [ 0.01157301, -0.194407  ,  0.00535114, ..., -0.1925165 ,\n",
       "         -0.21170756, -0.55986273],\n",
       "        [-0.00120608, -0.04744984,  0.17872335, ...,  0.27430916,\n",
       "         -0.17080961, -0.01066757],\n",
       "        ...,\n",
       "        [ 0.43189016, -0.21493812, -0.24408276, ..., -0.21796802,\n",
       "         -0.06237882,  0.4411375 ],\n",
       "        [ 0.73038626, -0.47296962,  0.14744417, ..., -0.52264464,\n",
       "          0.02744576,  0.5616209 ],\n",
       "        [-0.18957417,  0.50170344, -0.01452157, ...,  0.23997432,\n",
       "         -0.06825229, -0.19644788]], dtype=float32)>]"
      ]
     },
     "execution_count": 17,
     "metadata": {},
     "output_type": "execute_result"
    }
   ],
   "source": [
    "model.user_model.weights"
   ]
  },
  {
   "cell_type": "code",
   "execution_count": 21,
   "metadata": {},
   "outputs": [
    {
     "data": {
      "text/plain": [
       "<tf.Tensor: shape=(), dtype=string, numpy=b'Believers, The (1987)'>"
      ]
     },
     "execution_count": 21,
     "metadata": {},
     "output_type": "execute_result"
    }
   ],
   "source": [
    "# create a model that takes in raw query features, and\n",
    "index = tfrs.layers.factorized_top_k.BruteForce(model.user_model)\n",
    "# recommends movies out of the entire movies dataset.\n",
    "index.index_from_dataset(\n",
    "  movies.batch(128).map(lambda title: (title, model.movie_model(title)))\n",
    ")\n",
    "\n",
    "# get recommendations.\n",
    "_, titles = index(np.array([\"21\"]), k=3)"
   ]
  },
  {
   "cell_type": "code",
   "execution_count": null,
   "metadata": {},
   "outputs": [],
   "source": []
  }
 ],
 "metadata": {
  "kernelspec": {
   "display_name": "toolkit",
   "language": "python",
   "name": "python3"
  },
  "language_info": {
   "codemirror_mode": {
    "name": "ipython",
    "version": 3
   },
   "file_extension": ".py",
   "mimetype": "text/x-python",
   "name": "python",
   "nbconvert_exporter": "python",
   "pygments_lexer": "ipython3",
   "version": "3.11.9"
  }
 },
 "nbformat": 4,
 "nbformat_minor": 2
}
